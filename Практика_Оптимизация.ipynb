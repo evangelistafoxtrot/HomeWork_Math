{
  "cells": [
    {
      "cell_type": "markdown",
      "metadata": {
        "id": "NyHIGVhfa_Wf"
      },
      "source": [
        "# Стохастический градиентный и координатный спуски"
      ]
    },
    {
      "cell_type": "markdown",
      "metadata": {
        "id": "txCccYvha_Wv"
      },
      "source": [
        "## Загрузка и подготовка данных (1 балл)"
      ]
    },
    {
      "cell_type": "markdown",
      "metadata": {
        "id": "NbyOzeZ6a_Wx"
      },
      "source": [
        "**Загрузите уже знакомый вам файл *Advertising.csv* как объект DataFrame.** "
      ]
    },
    {
      "cell_type": "code",
      "execution_count": 26,
      "metadata": {
        "id": "E1L4_xeDa_Wz"
      },
      "outputs": [],
      "source": [
        "#ваш код \n",
        "import pandas as pd \n",
        "import numpy as np \n",
        "import seaborn as sns\n",
        "import matplotlib.pyplot as plt"
      ]
    },
    {
      "cell_type": "code",
      "execution_count": 55,
      "metadata": {},
      "outputs": [
        {
          "data": {
            "text/html": [
              "<div>\n",
              "<style scoped>\n",
              "    .dataframe tbody tr th:only-of-type {\n",
              "        vertical-align: middle;\n",
              "    }\n",
              "\n",
              "    .dataframe tbody tr th {\n",
              "        vertical-align: top;\n",
              "    }\n",
              "\n",
              "    .dataframe thead th {\n",
              "        text-align: right;\n",
              "    }\n",
              "</style>\n",
              "<table border=\"1\" class=\"dataframe\">\n",
              "  <thead>\n",
              "    <tr style=\"text-align: right;\">\n",
              "      <th></th>\n",
              "      <th>Unnamed: 0</th>\n",
              "      <th>TV</th>\n",
              "      <th>radio</th>\n",
              "      <th>newspaper</th>\n",
              "      <th>sales</th>\n",
              "    </tr>\n",
              "  </thead>\n",
              "  <tbody>\n",
              "    <tr>\n",
              "      <th>0</th>\n",
              "      <td>1</td>\n",
              "      <td>230.1</td>\n",
              "      <td>37.8</td>\n",
              "      <td>69.2</td>\n",
              "      <td>22.1</td>\n",
              "    </tr>\n",
              "    <tr>\n",
              "      <th>1</th>\n",
              "      <td>2</td>\n",
              "      <td>44.5</td>\n",
              "      <td>39.3</td>\n",
              "      <td>45.1</td>\n",
              "      <td>10.4</td>\n",
              "    </tr>\n",
              "    <tr>\n",
              "      <th>2</th>\n",
              "      <td>3</td>\n",
              "      <td>17.2</td>\n",
              "      <td>45.9</td>\n",
              "      <td>69.3</td>\n",
              "      <td>9.3</td>\n",
              "    </tr>\n",
              "    <tr>\n",
              "      <th>3</th>\n",
              "      <td>4</td>\n",
              "      <td>151.5</td>\n",
              "      <td>41.3</td>\n",
              "      <td>58.5</td>\n",
              "      <td>18.5</td>\n",
              "    </tr>\n",
              "    <tr>\n",
              "      <th>4</th>\n",
              "      <td>5</td>\n",
              "      <td>180.8</td>\n",
              "      <td>10.8</td>\n",
              "      <td>58.4</td>\n",
              "      <td>12.9</td>\n",
              "    </tr>\n",
              "  </tbody>\n",
              "</table>\n",
              "</div>"
            ],
            "text/plain": [
              "   Unnamed: 0     TV  radio  newspaper  sales\n",
              "0           1  230.1   37.8       69.2   22.1\n",
              "1           2   44.5   39.3       45.1   10.4\n",
              "2           3   17.2   45.9       69.3    9.3\n",
              "3           4  151.5   41.3       58.5   18.5\n",
              "4           5  180.8   10.8       58.4   12.9"
            ]
          },
          "execution_count": 55,
          "metadata": {},
          "output_type": "execute_result"
        }
      ],
      "source": [
        "df = pd.read_csv('Advertising.zip')\n",
        "df.head()"
      ]
    },
    {
      "cell_type": "code",
      "execution_count": 28,
      "metadata": {},
      "outputs": [
        {
          "data": {
            "text/html": [
              "<div>\n",
              "<style scoped>\n",
              "    .dataframe tbody tr th:only-of-type {\n",
              "        vertical-align: middle;\n",
              "    }\n",
              "\n",
              "    .dataframe tbody tr th {\n",
              "        vertical-align: top;\n",
              "    }\n",
              "\n",
              "    .dataframe thead th {\n",
              "        text-align: right;\n",
              "    }\n",
              "</style>\n",
              "<table border=\"1\" class=\"dataframe\">\n",
              "  <thead>\n",
              "    <tr style=\"text-align: right;\">\n",
              "      <th></th>\n",
              "      <th>Unnamed: 0</th>\n",
              "      <th>TV</th>\n",
              "      <th>radio</th>\n",
              "      <th>newspaper</th>\n",
              "      <th>sales</th>\n",
              "    </tr>\n",
              "  </thead>\n",
              "  <tbody>\n",
              "    <tr>\n",
              "      <th>count</th>\n",
              "      <td>200.000000</td>\n",
              "      <td>200.000000</td>\n",
              "      <td>200.000000</td>\n",
              "      <td>200.000000</td>\n",
              "      <td>200.000000</td>\n",
              "    </tr>\n",
              "    <tr>\n",
              "      <th>mean</th>\n",
              "      <td>100.500000</td>\n",
              "      <td>147.042500</td>\n",
              "      <td>23.264000</td>\n",
              "      <td>30.554000</td>\n",
              "      <td>14.022500</td>\n",
              "    </tr>\n",
              "    <tr>\n",
              "      <th>std</th>\n",
              "      <td>57.879185</td>\n",
              "      <td>85.854236</td>\n",
              "      <td>14.846809</td>\n",
              "      <td>21.778621</td>\n",
              "      <td>5.217457</td>\n",
              "    </tr>\n",
              "    <tr>\n",
              "      <th>min</th>\n",
              "      <td>1.000000</td>\n",
              "      <td>0.700000</td>\n",
              "      <td>0.000000</td>\n",
              "      <td>0.300000</td>\n",
              "      <td>1.600000</td>\n",
              "    </tr>\n",
              "    <tr>\n",
              "      <th>25%</th>\n",
              "      <td>50.750000</td>\n",
              "      <td>74.375000</td>\n",
              "      <td>9.975000</td>\n",
              "      <td>12.750000</td>\n",
              "      <td>10.375000</td>\n",
              "    </tr>\n",
              "    <tr>\n",
              "      <th>50%</th>\n",
              "      <td>100.500000</td>\n",
              "      <td>149.750000</td>\n",
              "      <td>22.900000</td>\n",
              "      <td>25.750000</td>\n",
              "      <td>12.900000</td>\n",
              "    </tr>\n",
              "    <tr>\n",
              "      <th>75%</th>\n",
              "      <td>150.250000</td>\n",
              "      <td>218.825000</td>\n",
              "      <td>36.525000</td>\n",
              "      <td>45.100000</td>\n",
              "      <td>17.400000</td>\n",
              "    </tr>\n",
              "    <tr>\n",
              "      <th>max</th>\n",
              "      <td>200.000000</td>\n",
              "      <td>296.400000</td>\n",
              "      <td>49.600000</td>\n",
              "      <td>114.000000</td>\n",
              "      <td>27.000000</td>\n",
              "    </tr>\n",
              "  </tbody>\n",
              "</table>\n",
              "</div>"
            ],
            "text/plain": [
              "       Unnamed: 0          TV       radio   newspaper       sales\n",
              "count  200.000000  200.000000  200.000000  200.000000  200.000000\n",
              "mean   100.500000  147.042500   23.264000   30.554000   14.022500\n",
              "std     57.879185   85.854236   14.846809   21.778621    5.217457\n",
              "min      1.000000    0.700000    0.000000    0.300000    1.600000\n",
              "25%     50.750000   74.375000    9.975000   12.750000   10.375000\n",
              "50%    100.500000  149.750000   22.900000   25.750000   12.900000\n",
              "75%    150.250000  218.825000   36.525000   45.100000   17.400000\n",
              "max    200.000000  296.400000   49.600000  114.000000   27.000000"
            ]
          },
          "execution_count": 28,
          "metadata": {},
          "output_type": "execute_result"
        }
      ],
      "source": [
        "df.describe()"
      ]
    },
    {
      "cell_type": "code",
      "execution_count": 4,
      "metadata": {},
      "outputs": [
        {
          "data": {
            "text/plain": [
              "(200, 5)"
            ]
          },
          "execution_count": 4,
          "metadata": {},
          "output_type": "execute_result"
        }
      ],
      "source": [
        "df.shape"
      ]
    },
    {
      "cell_type": "markdown",
      "metadata": {
        "id": "bf4aVFndDUKf"
      },
      "source": [
        "**Проверьте, есть ли в данных пропуски и, если они есть - удалите их**"
      ]
    },
    {
      "cell_type": "code",
      "execution_count": 5,
      "metadata": {
        "id": "tiVeFnR5DUKg"
      },
      "outputs": [
        {
          "name": "stdout",
          "output_type": "stream",
          "text": [
            "<class 'pandas.core.frame.DataFrame'>\n",
            "RangeIndex: 200 entries, 0 to 199\n",
            "Data columns (total 5 columns):\n",
            " #   Column      Non-Null Count  Dtype  \n",
            "---  ------      --------------  -----  \n",
            " 0   Unnamed: 0  200 non-null    int64  \n",
            " 1   TV          200 non-null    float64\n",
            " 2   radio       200 non-null    float64\n",
            " 3   newspaper   200 non-null    float64\n",
            " 4   sales       200 non-null    float64\n",
            "dtypes: float64(4), int64(1)\n",
            "memory usage: 7.9 KB\n"
          ]
        }
      ],
      "source": [
        "#ваш код \n",
        "df.info()"
      ]
    },
    {
      "cell_type": "code",
      "execution_count": 6,
      "metadata": {},
      "outputs": [
        {
          "data": {
            "text/plain": [
              "Unnamed: 0    0\n",
              "TV            0\n",
              "radio         0\n",
              "newspaper     0\n",
              "sales         0\n",
              "dtype: int64"
            ]
          },
          "execution_count": 6,
          "metadata": {},
          "output_type": "execute_result"
        }
      ],
      "source": [
        "#ваш код \n",
        "df.isnull().sum()"
      ]
    },
    {
      "cell_type": "markdown",
      "metadata": {
        "id": "rTkiqPr_DUKh"
      },
      "source": [
        "**Преобразуйте ваши признаки в массивы NumPy и разделите их на переменные X (предикторы) и y(целевая переменная)** "
      ]
    },
    {
      "cell_type": "code",
      "execution_count": null,
      "metadata": {
        "id": "R9OHIRB3a_Xa"
      },
      "outputs": [],
      "source": [
        "#ваш код \n",
        "# 1. Признаки (предикторы)\n",
        "X = df[['TV', 'radio', 'newspaper']].values  # shape (n, 3)\n",
        "# 2. Целевая переменная\n",
        "y = df['sales'].values.reshape(-1, 1)        # shape (n, 1)"
      ]
    },
    {
      "cell_type": "markdown",
      "metadata": {
        "id": "KCvjSoHEDUKo"
      },
      "source": [
        "## Координатный спуск (2 балла)"
      ]
    },
    {
      "cell_type": "markdown",
      "metadata": {
        "id": "yjNm8dATDUKq"
      },
      "source": [
        "**Добавим единичный столбец для того, чтобы у нас был свободный коэффициент в уравнении регрессии:**"
      ]
    },
    {
      "cell_type": "code",
      "execution_count": 58,
      "metadata": {},
      "outputs": [],
      "source": [
        "# Добавим единичный столбец в начало X (intercept)\n",
        "X = np.hstack([np.ones((X.shape[0], 1)), X])  # теперь shape (200, 4)"
      ]
    },
    {
      "cell_type": "code",
      "execution_count": 59,
      "metadata": {},
      "outputs": [
        {
          "name": "stdout",
          "output_type": "stream",
          "text": [
            "(200, 4) (200, 1)\n"
          ]
        }
      ],
      "source": [
        "print(X.shape, y.shape)"
      ]
    },
    {
      "cell_type": "markdown",
      "metadata": {
        "id": "R008OQwcDUKt"
      },
      "source": [
        "**Нормализуем данные: обычно это необходимо для корректной работы алгоритма**"
      ]
    },
    {
      "cell_type": "code",
      "execution_count": null,
      "metadata": {
        "id": "2Sk7Wx-SDUKt"
      },
      "outputs": [],
      "source": [
        "X_features = X[:, 1:]  # исключаем Intercept\n",
        "X_mean = X_features.mean(axis=0)\n",
        "X_std = X_features.std(axis=0)\n",
        "\n",
        "# Нормализация признаков\n",
        "X_scaled = (X_features - X_mean) / X_std\n",
        "\n",
        "# Добавим обратно единичный столбец (Intercept)\n",
        "X_norm = np.hstack([np.ones((X.shape[0], 1)), X_scaled])\n"
      ]
    },
    {
      "cell_type": "markdown",
      "metadata": {
        "id": "F_pHHbAdDUKu"
      },
      "source": [
        "**Реализуйте алгоритм координатного спуска:**\n",
        "\n",
        "Ниже приведен алгоритм координатного спуска для случая нормализованных данных:"
      ]
    },
    {
      "cell_type": "markdown",
      "metadata": {},
      "source": [
        "**Задано:**\n",
        "\n",
        "* $X=(x_{ij})$ - матрица наблюдений, размерностью $dim(X)=(m, n)$\n",
        "* $N=1000$ - количество итераций\n",
        "\n",
        "**Примечание:** *1000 итераций здесь указаны для этого задания, на самом деле их может быть намного больше, нет детерменированного значения.*\n",
        "\n",
        "**Алгоритм (математическая запись):**\n",
        "* Создать нулевой вектор параметров $w_0=(0, 0,..., 0)^T$\n",
        "* Для всех $t=1, 2, ..., N$ итераций:\n",
        "    * Для всех $k = 1, 2,..., n$:\n",
        "        * Фиксируем значение всех признаков, кроме $k$-ого и вычисляем прогноз модели линейной регрессии.Для этого исключаем признак $k$-ый из данных и $w_j$ из параметров при построении прогноза.\n",
        "        Математически это можно записать следующим образом:\n",
        "\n",
        "        $$h_i = \\sum_{j=1}^{k-1} x_{ij}w_{j} + \\sum_{j=k+1}^{n} x_{ij}w_j $$\n",
        "\n",
        "        **Примечание:**\n",
        "        \n",
        "        *Обратите, что в данной записи текущий признак под номером $k$ не участвует в сумме.Сравните эту запись с классической записью прогноза линейной регрессии в случае нормированных данных (когда участвуют все признаки):*\n",
        "\n",
        "        $$h_i = \\sum_{j=1}^{n} x_{ij}w_{j}$$ \n",
        "        \n",
        "        * Вычисляем новое значение параметра $k$-ого коэффициента: \n",
        "        $$w_k = \\sum_{i=1}^{m} x_{ik} (y_i - h_i) = x_k^T(y-h) $$\n",
        "\n",
        "    * Вычисляем значение функции потерь и сохраняем в историю изменения функции потерь (В оценке функции потерь участвуют все признаки):\n",
        "        $$\\hat{y_i} = \\sum_{j=1}^{n}x_{ij}w_j$$\n",
        "        $$Loss_t = \\frac{1}{n} \\sum_{i=1}^{m}(y_i-\\hat{y_i})^2$$\n",
        "        \n",
        "        или в векторном виде:\n",
        "        \n",
        "        $$\\hat{y} = Xw$$\n",
        "        $$Loss_t = \\frac{1}{n}(y-\\hat{y})^T(y-\\hat{y})$$\n",
        "    \n",
        "\n"
      ]
    },
    {
      "cell_type": "markdown",
      "metadata": {},
      "source": [
        "**Алгоритм (псевдокод):**\n",
        "```python\n",
        "\n",
        "num_iters = #количество итераций\n",
        "m = # количество строк в матрице X\n",
        "n = # количество столбцов в матрице X\n",
        "w = #вектор размера nx1, состояющий из нулей\n",
        "\n",
        "for i in range(num_iters):\n",
        "    for k in range(n):\n",
        "        # Вычисляем прогноз без k-ого фактора\n",
        "        h = (X[:,0:k] @ w[0:k]) + (X[:,k+1:] @ w[k+1:])\n",
        "        # Обновляем новое значение k-ого коэффициента\n",
        "        w[k] =  (X[:,k].T @ (y - h))\n",
        "        # Вычисляем функцию потерь\n",
        "        cost = sum((X @ w) - y) ** 2)/(len(y))\n",
        "\n",
        "```"
      ]
    },
    {
      "cell_type": "markdown",
      "metadata": {
        "id": "y3IdiHm9DUKv"
      },
      "source": [
        "Вам необходимо реализовать координатный спуск, и вывести веса в модели линейной регрессии."
      ]
    },
    {
      "cell_type": "code",
      "execution_count": null,
      "metadata": {},
      "outputs": [
        {
          "name": "stdout",
          "output_type": "stream",
          "text": [
            "Финальные веса модели:\n",
            "      Признак  Коэффициент\n",
            "0  Intercept    14.022500\n",
            "1         TV     3.919254\n",
            "2      radio     2.792063\n",
            "3  newspaper    -0.022539\n",
            "\n",
            "Финальное значение функции потерь: 2.784126314510936\n"
          ]
        }
      ],
      "source": [
        "num_iters = 1000\n",
        "m = X_norm.shape[0]\n",
        "n = X_norm.shape[1]\n",
        "w = np.zeros((n, 1))\n",
        "cost_history = []\n",
        "\n",
        "for i in range(num_iters):\n",
        "    for k in range(n):\n",
        "        h = (X_norm[:, :k] @ w[:k]) + (X_norm[:, k+1:] @ w[k+1:])\n",
        "        numerator = X_norm[:, k].T @ (y - h)\n",
        "        denominator = X_norm[:, k].T @ X_norm[:, k]\n",
        "        w[k] = numerator / denominator  # <-- fix here\n",
        "\n",
        "    cost = ((X_norm @ w - y) ** 2).mean()\n",
        "    cost_history.append(cost)\n",
        "\n",
        "feature_names = ['Intercept', 'TV', 'radio', 'newspaper']\n",
        "\n",
        "# Создание таблицы коэффициентов\n",
        "weights_df = pd.DataFrame({\n",
        "    'Признак': feature_names,\n",
        "    'Коэффициент': w.flatten()\n",
        "})\n",
        "print(\"Финальные веса модели:\\n\",weights_df)\n",
        "print(\"\\nФинальное значение функции потерь:\", cost) "
      ]
    },
    {
      "cell_type": "markdown",
      "metadata": {},
      "source": [
        "Вывод:\n",
        "Intercept (свободный коэффициент) = 14.02\n",
        "Это ожидаемое значение продаж, если затраты на рекламу равны нулю. То есть, даже без рекламы, модель предсказывает в среднем 14.02 единиц продаж. Это может отражать: естественный спрос, силу бренда, повторные покупки и т.д.\n",
        "\n",
        "* TV = 3.92 Если увеличить затраты на рекламу по телевидению на 1 единицу, то продажи увеличатся примерно на 3.92 единицы, при прочих равных.\n",
        "\n",
        "*  radio = 2.79 Если увеличить расходы на радио-рекламу на 1 единицу, то продажи вырастут примерно на 2.79 единицы.\n",
        "\n",
        "*  newspaper = -0.02 Если увеличить расходы на рекламу в газетах на 1 единицу, то продажи уменьшаются на 0.02.\n",
        "Хотя это значение очень близко к нулю, оно указывает, что газетная реклама: либо неэффективна, либо даже может мешать (например, если она плохо таргетирована), либо просто не оказывает значимого влияния в условиях других переменных.\n",
        "\n",
        "* MSE=2.78 Это значит, что в среднем ошибка прогноза составляет примерно ±1.67 (√2.78) единицы продаж. Это довольно неплохая точность на реальных данных.\n",
        "\n",
        "Наиболее эффективный канал рекламы — TV."
      ]
    },
    {
      "cell_type": "markdown",
      "metadata": {
        "id": "a3jG-7UADUKx"
      },
      "source": [
        "Сравните результаты с реализацией линейной регрессии из библиотеки sklearn:"
      ]
    },
    {
      "cell_type": "code",
      "execution_count": null,
      "metadata": {},
      "outputs": [
        {
          "name": "stdout",
          "output_type": "stream",
          "text": [
            "     Признак  Коэффициент\n",
            "0  Intercept    14.022500\n",
            "1         TV     3.919254\n",
            "2      radio     2.792063\n",
            "3  newspaper    -0.022539\n"
          ]
        }
      ],
      "source": [
        "from sklearn.linear_model import LinearRegression\n",
        "lr_stat = LinearRegression(fit_intercept=False)\n",
        "lr_stat.fit(X_norm, y)\n",
        "\n",
        "feature_names = ['Intercept', 'TV', 'radio', 'newspaper']\n",
        "# Получаем коэффициенты из модели и превращаем их в одномерный массив\n",
        "coef = lr_stat.coef_.flatten()\n",
        "# Создаем таблицу\n",
        "weights_df = pd.DataFrame({\n",
        "    'Признак': feature_names,\n",
        "    'Коэффициент': coef\n",
        "})\n",
        "\n",
        "print(weights_df)"
      ]
    },
    {
      "cell_type": "markdown",
      "metadata": {
        "id": "hIl0AGLyDUKy"
      },
      "source": [
        "Если вы все сделали верно, они должны практически совпасть!"
      ]
    },
    {
      "cell_type": "markdown",
      "metadata": {},
      "source": [
        "Вывод:\n",
        "\n",
        "результате оба одинаковые"
      ]
    },
    {
      "cell_type": "markdown",
      "metadata": {
        "id": "VCGwFnPdDUKz"
      },
      "source": [
        "## Стохастический градиентный спуск (7 баллов)"
      ]
    },
    {
      "cell_type": "markdown",
      "metadata": {
        "id": "5u7Q2YJla_Xk"
      },
      "source": [
        "**Отмасштабируйте столбцы исходной матрицы *X* (которую мы не нормализовали еще!). Для того, чтобы это сделать, надо вычесть из каждого значения среднее и разделить на стандартное отклонение**"
      ]
    },
    {
      "cell_type": "code",
      "execution_count": null,
      "metadata": {},
      "outputs": [],
      "source": [
        "X = df[['TV', 'radio', 'newspaper']].values  # Преобразуем в массив NumPy\n",
        "\n",
        "# Вычисляем среднее и стандартное отклонение\n",
        "X_mean = X.mean(axis=0)\n",
        "X_std = X.std(axis=0)\n",
        "\n",
        "# Нормализуем: Z = (X - mean) / std\n",
        "X_scaled = (X - X_mean) / X_std"
      ]
    },
    {
      "cell_type": "markdown",
      "metadata": {
        "id": "8WkNYILHDUK1"
      },
      "source": [
        "**Добавим единичный столбец**"
      ]
    },
    {
      "cell_type": "code",
      "execution_count": 70,
      "metadata": {},
      "outputs": [],
      "source": [
        "intercept = np.ones((X_scaled.shape[0], 1))  # столбец из единиц (размер m x 1)\n",
        "X_with_intercept = np.hstack([intercept, X_scaled])  # объединяем по горизонтали"
      ]
    },
    {
      "cell_type": "markdown",
      "metadata": {
        "id": "m53tZA5fDUK1"
      },
      "source": [
        "**Создайте функцию mse_error для вычисления среднеквадратичной ошибки, принимающую два аргумента: реальные значения и предсказывающие, и возвращающую значение mse**"
      ]
    },
    {
      "cell_type": "code",
      "execution_count": 71,
      "metadata": {},
      "outputs": [
        {
          "name": "stdout",
          "output_type": "stream",
          "text": [
            "MSE: 2.784126314510936\n"
          ]
        }
      ],
      "source": [
        "def mse_error(y_true, y_pred):\n",
        "    return np.mean((y_true - y_pred) ** 2)\n",
        "\n",
        "w_opt = np.linalg.pinv(X_with_intercept.T @ X_with_intercept) @ X_with_intercept.T @ y\n",
        "\n",
        "# Предсказание\n",
        "y_pred = X_with_intercept @ w_opt\n",
        "\n",
        "# MSE\n",
        "mse = mse_error(y, y_pred)\n",
        "print(\"MSE:\", mse)"
      ]
    },
    {
      "cell_type": "markdown",
      "metadata": {},
      "source": [
        "Вывод:\n",
        "\n",
        "Это означает, что в среднем, квадрат отклонения предсказаний от настоящих значений продаж составляет 2.78. Корень из MSE (RMSE) ≈ √2.78 ≈ 1.67 — в тех же единицах, что sales (возможно, тысяч долларов)"
      ]
    },
    {
      "cell_type": "markdown",
      "metadata": {
        "id": "lpOLhdvBDUK2"
      },
      "source": [
        "**Сделайте наивный прогноз: предскажите продажи средним значением. После этого рассчитайте среднеквадратичную ошибку для этого прогноза**"
      ]
    },
    {
      "cell_type": "code",
      "execution_count": 72,
      "metadata": {},
      "outputs": [
        {
          "name": "stdout",
          "output_type": "stream",
          "text": [
            "MSE наивного прогноза: 27.085743750000002\n",
            "Среднее значение продаж (наивный прогноз): 14.0225\n"
          ]
        }
      ],
      "source": [
        "# 1. Среднее значение по y\n",
        "y_mean = np.mean(y)\n",
        "\n",
        "# 2. Наивный прогноз: предсказания = среднее значение\n",
        "y_naive_pred = np.full_like(y, fill_value=y_mean)\n",
        "\n",
        "# 3. MSE\n",
        "mse_naive = mse_error(y, y_naive_pred)\n",
        "\n",
        "print(\"MSE наивного прогноза:\", mse_naive)\n",
        "print(\"Среднее значение продаж (наивный прогноз):\", y_mean)"
      ]
    },
    {
      "cell_type": "markdown",
      "metadata": {},
      "source": [
        "Вывод:\n",
        "\n",
        "MSE наивного прогноза показывает, насколько данные отклоняются от своего среднего. А Среднее значение продаж (наивный прогноз): 14.0225\n",
        "\n",
        "Линейная регрессионная модель, обученная на нормализованных признаках с учётом свободного члена (интерсепта), показывает значительно лучшую точность, чем наивный прогноз.\n",
        "\n",
        "* Среднеквадратичная ошибка (MSE) модели: 2.78\n",
        "\n",
        "* MSE наивного прогноза (среднее значение продаж): 27.09\n",
        "\n",
        "Это означает, что:\n",
        "\n",
        "* Линейная модель объясняет большую часть вариации в данных.\n",
        "\n",
        "* Признаки (TV, radio, newspaper) действительно влияют на продажи.\n",
        "\n",
        "* Наивная модель, предсказывающая просто среднее, в 10 раз хуже, чем обученная модель."
      ]
    },
    {
      "cell_type": "markdown",
      "metadata": {
        "id": "BbybL2ola_ZM"
      },
      "source": [
        "**Создайте функцию *lin_pred*, которая может по матрице предикторов *X* и вектору весов линейной модели *w* получить вектор прогнозов**"
      ]
    },
    {
      "cell_type": "code",
      "execution_count": 73,
      "metadata": {},
      "outputs": [
        {
          "name": "stdout",
          "output_type": "stream",
          "text": [
            "MSE: 2.784126314510936\n"
          ]
        }
      ],
      "source": [
        "#ваш код\n",
        "def lin_pred(X, w):\n",
        "    return X @ w\n",
        "\n",
        "# Предсказания на обученной модели\n",
        "y_pred = lin_pred(X_with_intercept, w_opt)\n",
        "\n",
        "# MSE\n",
        "mse = mse_error(y, y_pred)\n",
        "print(\"MSE:\", mse)"
      ]
    },
    {
      "cell_type": "code",
      "execution_count": 74,
      "metadata": {},
      "outputs": [
        {
          "name": "stdout",
          "output_type": "stream",
          "text": [
            "Прогнозы модели:\n",
            " [[20.52397441]\n",
            " [12.33785482]\n",
            " [12.30767078]\n",
            " [17.59782951]\n",
            " [13.18867186]]\n"
          ]
        }
      ],
      "source": [
        "print(\"Прогнозы модели:\\n\", y_pred[:5])"
      ]
    },
    {
      "cell_type": "markdown",
      "metadata": {},
      "source": [
        "Вывод:\n",
        "\n",
        "MSE = 2.78 Это подтверждает, что модель работает правильно, и функция lin_pred корректно реализована. Модель линейной регрессии, обученная на нормализованных признаках (TV, radio, newspaper), предсказывает продажи с высокой точностью."
      ]
    },
    {
      "cell_type": "markdown",
      "metadata": {
        "id": "BU4adBrya_Zm"
      },
      "source": [
        "**Создайте функцию *stoch_grad_step* для реализации шага стохастического градиентного спуска.  \n",
        "Функция должна принимать на вход следующие аргументы:**\n",
        "* матрицу *X*\n",
        "* вектора *y* и *w*\n",
        "* число *train_ind* - индекс объекта обучающей выборки (строки матрицы *X*), по которому считается изменение весов\n",
        "* число *$\\eta$* (eta) - шаг градиентного спуска\n",
        "\n",
        "Результатом будет вектор обновленных весов"
      ]
    },
    {
      "cell_type": "markdown",
      "metadata": {
        "id": "dyLY-P02DUK5"
      },
      "source": [
        "Шаг для стохастического градиентного спуска выглядит следующим образом:"
      ]
    },
    {
      "cell_type": "markdown",
      "metadata": {
        "id": "ORsAyIKNDUK5"
      },
      "source": [
        "$$\\Large w_j \\leftarrow w_j - \\frac{2\\eta}{\\ell} \\sum_{i=1}^\\ell{{x_{ij}((w_0 + w_1x_{i1} + w_2x_{i2} +  w_3x_{i3}) - y_i)}}$$"
      ]
    },
    {
      "cell_type": "markdown",
      "metadata": {
        "id": "CQl2FrpuDUK6"
      },
      "source": [
        "Для того, чтобы написать функцию, нужно сделать следующее:\n",
        "    \n",
        "*  посчитать направление изменения: умножить объект обучающей выборки на 2 и на разницу между предсказанным значением и реальным, а потом поделить на количество элементов в выборке.\n",
        "* вернуть разницу между вектором весов и направлением изменения, умноженным на шаг градиентного спуска"
      ]
    },
    {
      "cell_type": "code",
      "execution_count": 75,
      "metadata": {
        "id": "YUhVQGsja_Zn"
      },
      "outputs": [
        {
          "name": "stdout",
          "output_type": "stream",
          "text": [
            "Финальные веса модели:\n",
            " [[14.02197217]\n",
            " [ 3.92010632]\n",
            " [ 2.79114904]\n",
            " [-0.02361852]]\n",
            "Первые 5 предсказаний:\n",
            " [[20.52397441]\n",
            " [12.33785482]\n",
            " [12.30767078]\n",
            " [17.59782951]\n",
            " [13.18867186]]\n"
          ]
        }
      ],
      "source": [
        "#ваш код\n",
        "def stoch_grad_step(X, y, w, train_ind, eta):\n",
        "    l = X.shape[0]  # общее число объектов\n",
        "    x_i = X[train_ind].reshape(1, -1)  # строка X в виде вектора-строки\n",
        "    y_i = y[train_ind]                 # соответствующее значение y\n",
        "    y_pred_i = x_i @ w_opt                 # предсказание модели\n",
        "\n",
        "    # Направление изменения\n",
        "    direction = (2 / l) * (y_pred_i - y_i) * x_i.T\n",
        "\n",
        "    # Обновлённые веса\n",
        "    w_new = w_opt - eta * direction\n",
        "\n",
        "    return w_new\n",
        "\n",
        "eta = 0.01\n",
        "train_ind = 5  # обновляем по 6-му объекту\n",
        "w_new = stoch_grad_step(X_with_intercept, y, w, train_ind, eta)\n",
        "print(\"Финальные веса модели:\\n\", w_new)\n",
        "y_pred = X_with_intercept @ w_opt  # или lin_pred(X_scaler, w)\n",
        "print(\"Первые 5 предсказаний:\\n\", y_pred[:5])"
      ]
    },
    {
      "cell_type": "code",
      "execution_count": 76,
      "metadata": {},
      "outputs": [
        {
          "name": "stdout",
          "output_type": "stream",
          "text": [
            "   Факт    Прогноз\n",
            "0  22.1  20.523974\n",
            "1  10.4  12.337855\n",
            "2   9.3  12.307671\n",
            "3  18.5  17.597830\n",
            "4  12.9  13.188672\n"
          ]
        }
      ],
      "source": [
        "\n",
        "\n",
        "result_df = pd.DataFrame({\n",
        "    \"Факт\": y[:5].flatten(),\n",
        "    \"Прогноз\": y_pred[:5].flatten()\n",
        "})\n",
        "print(result_df)\n"
      ]
    },
    {
      "cell_type": "markdown",
      "metadata": {},
      "source": [
        "Вывод:\n",
        "\n",
        "* Модель достаточно хорошо приближается к фактическим значениям.\n",
        "\n",
        "* Самое большое отклонение — около 3 единиц, что нормально для реальных данных.\n",
        "\n",
        "* Ошибки не систематические — они бывают как положительные, так и отрицательные. Это хороший признак."
      ]
    },
    {
      "cell_type": "markdown",
      "metadata": {
        "id": "pXwIFd0Ma_Zx"
      },
      "source": [
        "**Создайте функцию *stochastic_gradient_descent*, для реализации стохастического градиентного спуска**\n",
        "\n",
        "**Функция принимает на вход следующие аргументы:**\n",
        "- Матрицу признаков X\n",
        "- Целевую переменнную\n",
        "- Изначальную точку (веса модели)\n",
        "- Параметр, определяющий темп обучения\n",
        "- Максимальное число итераций\n",
        "- Евклидово расстояние между векторами весов на соседних итерациях градиентного спуска,при котором алгоритм прекращает работу \n",
        "\n",
        "**На каждой итерации в вектор (список) должно записываться текущее значение среднеквадратичной ошибки. Функция должна возвращать вектор весов $w$, а также вектор (список) ошибок.**"
      ]
    },
    {
      "cell_type": "markdown",
      "metadata": {
        "id": "ZVeoNF1JDUK7"
      },
      "source": [
        "Алгоритм сследующий:\n",
        "    \n",
        "* Инициализируйте расстояние между векторами весов на соседних итерациях большим числом (можно бесконечностью)\n",
        "* Создайте пустой список для фиксации ошибок\n",
        "* Создайте счетчик итераций\n",
        "* Реализуйте оновной цикл обучения пока расстояние между векторами весов больше того, при котором надо прекратить работу (когда расстояния станут слишком маленькими - значит, мы застряли в одном месте) и количество итераций меньше максимально разрешенного: сгенерируйте случайный индекс, запишите текущую ошибку в вектор ошибок, запишите в переменную текущий шаг стохастического спуска с использованием функции, написанной ранее. Далее рассчитайте текущее расстояние между векторами весов и прибавьте к счетчику итераций 1.\n",
        "* Верните вектор весов и вектор ошибок"
      ]
    },
    {
      "cell_type": "markdown",
      "metadata": {
        "id": "0OqHO1Rta_Z7"
      },
      "source": [
        " **Запустите $10^5$ итераций стохастического градиентного спуска. Укажите вектор начальных весов, состоящий из нулей. Можете поэкспериментировать с параметром, отвечающим за темп обучения.**"
      ]
    },
    {
      "cell_type": "code",
      "execution_count": 77,
      "metadata": {},
      "outputs": [],
      "source": [
        "# ваш код\n",
        "def cost_function(X, y, par):\n",
        "    n = X.shape[0]\n",
        "    y_pred = X @ par\n",
        "    error = (y_pred - y) ** 2\n",
        "    cost = (1 / n) * np.sum(error)\n",
        "    return cost\n",
        "\n",
        "def stochastic_gradient_descent(X, y, w_init, eta, max_iter, tol):\n",
        "    w = w_init.copy()                  # начальные веса\n",
        "    errors = []                        # список ошибок\n",
        "    distance = float('inf')           # инициализируем расстояние бесконечностью\n",
        "    iterations = 0                    # счетчик итераций\n",
        "\n",
        "    while distance > tol and iterations < max_iter:\n",
        "        train_ind = np.random.randint(0, X.shape[0])  # случайный индекс строки\n",
        "        y_pred = X @ w\n",
        "        mse = cost_function(X, y, w)                  # считаем MSE\n",
        "        errors.append(mse)\n",
        "\n",
        "        w_new = stoch_grad_step(X, y, w, train_ind, eta)  # шаг SGD\n",
        "\n",
        "        distance = np.linalg.norm(w_new - w)         # евклидово расстояние\n",
        "        w = w_new\n",
        "        iterations += 1\n",
        "\n",
        "    return w, errors\n",
        "w_init = np.zeros((X_with_intercept.shape[1], 1)) \n",
        "eta = 0.01\n",
        "max_iter = 10000\n",
        "tol = 1e-6\n",
        "\n",
        "w_sgd, errors = stochastic_gradient_descent(X_with_intercept, y, w_init, eta, max_iter, tol)"
      ]
    },
    {
      "cell_type": "markdown",
      "metadata": {
        "id": "N6fHHT6vDUK8"
      },
      "source": [
        "**Постройте график зависимости ошибки от номера итерации**"
      ]
    },
    {
      "cell_type": "code",
      "execution_count": 78,
      "metadata": {
        "id": "zsSfHDzLDUK9"
      },
      "outputs": [
        {
          "data": {
            "image/png": "[encoded data removed]",
            "text/plain": [
              "<Figure size 1000x500 with 1 Axes>"
            ]
          },
          "metadata": {},
          "output_type": "display_data"
        }
      ],
      "source": [
        "# ваш код\n",
        "plt.figure(figsize=(10, 5))\n",
        "plt.plot(errors)\n",
        "plt.xlabel(\"Итерация\")\n",
        "plt.ylabel(\"Ошибка (MSE)\")\n",
        "plt.title(\"график зависимости ошибки от номера итерации\")\n",
        "plt.grid(True)\n",
        "plt.show()\n"
      ]
    },
    {
      "cell_type": "markdown",
      "metadata": {
        "id": "O-MVOcJ6a_aY"
      },
      "source": [
        "**Выведите вектор весов, к которому сошелся метод.**"
      ]
    },
    {
      "cell_type": "code",
      "execution_count": 79,
      "metadata": {
        "id": "MPjVkXe4DUK9"
      },
      "outputs": [
        {
          "name": "stdout",
          "output_type": "stream",
          "text": [
            "Финальный вектор весов:\n",
            " [[14.02267127]\n",
            " [ 3.91898578]\n",
            " [ 2.79179832]\n",
            " [-0.02257767]]\n"
          ]
        }
      ],
      "source": [
        "# ваш код\n",
        "print(\"Финальный вектор весов:\\n\", w_sgd)"
      ]
    },
    {
      "cell_type": "markdown",
      "metadata": {
        "id": "qabzMc3Qa_a5"
      },
      "source": [
        "**Выведите среднеквадратичную ошибку на последней итерации.**"
      ]
    },
    {
      "cell_type": "code",
      "execution_count": 80,
      "metadata": {
        "id": "7tPWleMIa_a7"
      },
      "outputs": [
        {
          "name": "stdout",
          "output_type": "stream",
          "text": [
            "MSE на последней итерации: 2.784126503313544\n"
          ]
        }
      ],
      "source": [
        "# ваш код\n",
        "print(\"MSE на последней итерации:\", errors[-1])\n"
      ]
    },
    {
      "cell_type": "markdown",
      "metadata": {},
      "source": [
        "Вывод:\n",
        "\n",
        "Модель линейной регрессии, обученная с помощью стоахастического градиентного спуска, значительно снизила ошибку прогноза. Это говорит о том, что затраты на рекламу действительно хорошо объясняют продажи, особенно через каналы TV и radio.\n",
        "\n"
      ]
    }
  ],
  "metadata": {
    "colab": {
      "collapsed_sections": [],
      "name": "Практика_Оптимизация.ipynb",
      "provenance": [],
      "toc_visible": true
    },
    "kernelspec": {
      "display_name": "evangelista",
      "language": "python",
      "name": "python3"
    },
    "language_info": {
      "codemirror_mode": {
        "name": "ipython",
        "version": 3
      },
      "file_extension": ".py",
      "mimetype": "text/x-python",
      "name": "python",
      "nbconvert_exporter": "python",
      "pygments_lexer": "ipython3",
      "version": "3.9.21"
    }
  },
  "nbformat": 4,
  "nbformat_minor": 0
}
